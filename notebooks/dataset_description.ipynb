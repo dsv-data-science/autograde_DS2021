{
 "cells": [
  {
   "cell_type": "code",
   "execution_count": 5,
   "metadata": {
    "collapsed": true
   },
   "outputs": [],
   "source": [
    "#libraries\n",
    "import matplotlib.pyplot as plt\n",
    "import pandas as pd\n",
    "from utils import utils as utils\n",
    "import seaborn as sns\n",
    "from statistics import mean,median\n",
    "\n",
    "#data\n",
    "finalized_dataset = pd.read_csv('../data/arabic_dataset.csv', index_col=0)"
   ]
  },
  {
   "cell_type": "code",
   "execution_count": 6,
   "outputs": [
    {
     "name": "stdout",
     "output_type": "stream",
     "text": [
      "columns:  Index(['Question', 'Right_Answer', 'Grade', 'Number', 'Responses',\n",
      "       'Number of Question', 'label'],\n",
      "      dtype='object')\n"
     ]
    }
   ],
   "source": [
    "#renaming some columns in order to have the same column names on all datasets\n",
    "finalized_dataset = finalized_dataset.rename(columns={'Number of Question': 'Question_Nr', 'label': 'Labels', 'Responses':'Response'})"
   ],
   "metadata": {
    "collapsed": false,
    "pycharm": {
     "name": "#%%\n"
    }
   }
  },
  {
   "cell_type": "code",
   "execution_count": 8,
   "outputs": [
    {
     "name": "stdout",
     "output_type": "stream",
     "text": [
      "<class 'pandas.core.frame.DataFrame'>\n",
      "Int64Index: 2132 entries, 0 to 2131\n",
      "Data columns (total 7 columns):\n",
      " #   Column        Non-Null Count  Dtype  \n",
      "---  ------        --------------  -----  \n",
      " 0   Question      2132 non-null   object \n",
      " 1   Right_Answer  2132 non-null   object \n",
      " 2   Grade         2132 non-null   float64\n",
      " 3   Number        2132 non-null   object \n",
      " 4   Response      2132 non-null   object \n",
      " 5   Question_Nr   2132 non-null   int64  \n",
      " 6   Labels        2132 non-null   int64  \n",
      "dtypes: float64(1), int64(2), object(4)\n",
      "memory usage: 133.2+ KB\n"
     ]
    }
   ],
   "source": [
    "#check for nan values\n",
    "print(\" \\nCount total NaN at each column in a DataFrame : \\n\\n\",\n",
    "      finalized_dataset.isnull().sum())"
   ],
   "metadata": {
    "collapsed": false,
    "pycharm": {
     "name": "#%%\n"
    }
   }
  },
  {
   "cell_type": "code",
   "execution_count": 10,
   "outputs": [
    {
     "data": {
      "text/plain": "             Grade  Question_Nr       Labels\ncount  2132.000000  2132.000000  2132.000000\nmean      3.311210    24.960600     0.660882\nstd      18.939414    13.892574     0.473521\nmin       0.000000     1.000000     0.000000\n25%       1.750000    13.000000     0.000000\n50%       3.000000    26.000000     1.000000\n75%       4.000000    37.000000     1.000000\nmax     875.000000    48.000000     1.000000",
      "text/html": "<div>\n<style scoped>\n    .dataframe tbody tr th:only-of-type {\n        vertical-align: middle;\n    }\n\n    .dataframe tbody tr th {\n        vertical-align: top;\n    }\n\n    .dataframe thead th {\n        text-align: right;\n    }\n</style>\n<table border=\"1\" class=\"dataframe\">\n  <thead>\n    <tr style=\"text-align: right;\">\n      <th></th>\n      <th>Grade</th>\n      <th>Question_Nr</th>\n      <th>Labels</th>\n    </tr>\n  </thead>\n  <tbody>\n    <tr>\n      <th>count</th>\n      <td>2132.000000</td>\n      <td>2132.000000</td>\n      <td>2132.000000</td>\n    </tr>\n    <tr>\n      <th>mean</th>\n      <td>3.311210</td>\n      <td>24.960600</td>\n      <td>0.660882</td>\n    </tr>\n    <tr>\n      <th>std</th>\n      <td>18.939414</td>\n      <td>13.892574</td>\n      <td>0.473521</td>\n    </tr>\n    <tr>\n      <th>min</th>\n      <td>0.000000</td>\n      <td>1.000000</td>\n      <td>0.000000</td>\n    </tr>\n    <tr>\n      <th>25%</th>\n      <td>1.750000</td>\n      <td>13.000000</td>\n      <td>0.000000</td>\n    </tr>\n    <tr>\n      <th>50%</th>\n      <td>3.000000</td>\n      <td>26.000000</td>\n      <td>1.000000</td>\n    </tr>\n    <tr>\n      <th>75%</th>\n      <td>4.000000</td>\n      <td>37.000000</td>\n      <td>1.000000</td>\n    </tr>\n    <tr>\n      <th>max</th>\n      <td>875.000000</td>\n      <td>48.000000</td>\n      <td>1.000000</td>\n    </tr>\n  </tbody>\n</table>\n</div>"
     },
     "execution_count": 10,
     "metadata": {},
     "output_type": "execute_result"
    }
   ],
   "source": [
    "finalized_dataset.describe()\n",
    "#We have 48 questions and labels 0,1\n",
    "#However, we see that the max grade in Grade column is 875, should be 5."
   ],
   "metadata": {
    "collapsed": false,
    "pycharm": {
     "name": "#%%\n"
    }
   }
  },
  {
   "cell_type": "code",
   "execution_count": 11,
   "outputs": [
    {
     "name": "stdout",
     "output_type": "stream",
     "text": [
      "[3.000e+00 5.000e+00 2.625e+00 4.000e+00 3.500e+00 3.750e+00 4.500e+00\n",
      " 3.625e+00 4.250e+00 2.500e+00 7.500e-01 2.250e+00 4.750e+00 3.250e+00\n",
      " 2.750e+00 1.250e+00 3.875e+00 1.750e+00 1.000e+00 1.500e+00 2.000e+00\n",
      " 2.500e-01 0.000e+00 5.000e-01 2.125e+00 2.875e+00 3.375e+00 8.750e+02\n",
      " 1.375e+00 1.625e+00 1.125e+00 4.375e+00 3.125e+00]\n"
     ]
    },
    {
     "data": {
      "text/plain": "                                              Question  \\\n394   ماهي الأسس التي يجب إتباعها للحد من انتشار ال...   \n\n                                          Right_Answer  Grade Number  \\\n394   ثقافة أمن المعلومات، التشريع القانوني، التربي...  875.0    [1]   \n\n                                              Response  Question_Nr  Labels  \n394  ماديا: توفير العتاد اللازم لتأمين مصادر المعلو...           10       1  ",
      "text/html": "<div>\n<style scoped>\n    .dataframe tbody tr th:only-of-type {\n        vertical-align: middle;\n    }\n\n    .dataframe tbody tr th {\n        vertical-align: top;\n    }\n\n    .dataframe thead th {\n        text-align: right;\n    }\n</style>\n<table border=\"1\" class=\"dataframe\">\n  <thead>\n    <tr style=\"text-align: right;\">\n      <th></th>\n      <th>Question</th>\n      <th>Right_Answer</th>\n      <th>Grade</th>\n      <th>Number</th>\n      <th>Response</th>\n      <th>Question_Nr</th>\n      <th>Labels</th>\n    </tr>\n  </thead>\n  <tbody>\n    <tr>\n      <th>394</th>\n      <td>ماهي الأسس التي يجب إتباعها للحد من انتشار ال...</td>\n      <td>ثقافة أمن المعلومات، التشريع القانوني، التربي...</td>\n      <td>875.0</td>\n      <td>[1]</td>\n      <td>ماديا: توفير العتاد اللازم لتأمين مصادر المعلو...</td>\n      <td>10</td>\n      <td>1</td>\n    </tr>\n  </tbody>\n</table>\n</div>"
     },
     "execution_count": 11,
     "metadata": {},
     "output_type": "execute_result"
    }
   ],
   "source": [
    "finalized_dataset.loc[\n",
    "    finalized_dataset.Grade == 875\n",
    "] #row 394 contains outlier, remove"
   ],
   "metadata": {
    "collapsed": false,
    "pycharm": {
     "name": "#%%\n"
    }
   }
  },
  {
   "cell_type": "code",
   "execution_count": 12,
   "outputs": [],
   "source": [
    "finalized_dataset = finalized_dataset.loc[\n",
    "    finalized_dataset.Grade != 875\n",
    "]"
   ],
   "metadata": {
    "collapsed": false,
    "pycharm": {
     "name": "#%%\n"
    }
   }
  },
  {
   "cell_type": "code",
   "execution_count": 13,
   "outputs": [
    {
     "data": {
      "text/plain": "             Grade  Question_Nr       Labels\ncount  2131.000000  2131.000000  2131.000000\nmean      2.902159    24.967621     0.660723\nstd       1.403347    13.892051     0.473575\nmin       0.000000     1.000000     0.000000\n25%       1.750000    13.000000     0.000000\n50%       3.000000    26.000000     1.000000\n75%       4.000000    37.000000     1.000000\nmax       5.000000    48.000000     1.000000",
      "text/html": "<div>\n<style scoped>\n    .dataframe tbody tr th:only-of-type {\n        vertical-align: middle;\n    }\n\n    .dataframe tbody tr th {\n        vertical-align: top;\n    }\n\n    .dataframe thead th {\n        text-align: right;\n    }\n</style>\n<table border=\"1\" class=\"dataframe\">\n  <thead>\n    <tr style=\"text-align: right;\">\n      <th></th>\n      <th>Grade</th>\n      <th>Question_Nr</th>\n      <th>Labels</th>\n    </tr>\n  </thead>\n  <tbody>\n    <tr>\n      <th>count</th>\n      <td>2131.000000</td>\n      <td>2131.000000</td>\n      <td>2131.000000</td>\n    </tr>\n    <tr>\n      <th>mean</th>\n      <td>2.902159</td>\n      <td>24.967621</td>\n      <td>0.660723</td>\n    </tr>\n    <tr>\n      <th>std</th>\n      <td>1.403347</td>\n      <td>13.892051</td>\n      <td>0.473575</td>\n    </tr>\n    <tr>\n      <th>min</th>\n      <td>0.000000</td>\n      <td>1.000000</td>\n      <td>0.000000</td>\n    </tr>\n    <tr>\n      <th>25%</th>\n      <td>1.750000</td>\n      <td>13.000000</td>\n      <td>0.000000</td>\n    </tr>\n    <tr>\n      <th>50%</th>\n      <td>3.000000</td>\n      <td>26.000000</td>\n      <td>1.000000</td>\n    </tr>\n    <tr>\n      <th>75%</th>\n      <td>4.000000</td>\n      <td>37.000000</td>\n      <td>1.000000</td>\n    </tr>\n    <tr>\n      <th>max</th>\n      <td>5.000000</td>\n      <td>48.000000</td>\n      <td>1.000000</td>\n    </tr>\n  </tbody>\n</table>\n</div>"
     },
     "execution_count": 13,
     "metadata": {},
     "output_type": "execute_result"
    }
   ],
   "source": [
    "finalized_dataset.describe() #875 outlier removed"
   ],
   "metadata": {
    "collapsed": false,
    "pycharm": {
     "name": "#%%\n"
    }
   }
  },
  {
   "cell_type": "code",
   "execution_count": 14,
   "outputs": [
    {
     "name": "stdout",
     "output_type": "stream",
     "text": [
      "1    1408\n",
      "0     723\n",
      "Name: Labels, dtype: int64\n"
     ]
    }
   ],
   "source": [
    "#class balance\n",
    "print(finalized_dataset.Labels.value_counts())"
   ],
   "metadata": {
    "collapsed": false,
    "pycharm": {
     "name": "#%%\n"
    }
   }
  },
  {
   "cell_type": "code",
   "execution_count": 15,
   "outputs": [
    {
     "data": {
      "text/plain": "<Figure size 864x576 with 1 Axes>",
      "image/png": "[encoded data removed]"
     },
     "metadata": {
      "needs_background": "light"
     },
     "output_type": "display_data"
    }
   ],
   "source": [
    "#Class balance (plot)\n",
    "total_labels = finalized_dataset.Labels.value_counts()\n",
    "x_labels = [1,0]\n",
    "\n",
    "plt.figure(figsize=(12,8))\n",
    "ax = total_labels.plot(kind='bar')\n",
    "ax.set_title('Class label distribution (Amount)')\n",
    "ax.set_xlabel('Labels')\n",
    "ax.set_ylabel('Amount')\n",
    "ax.set_xticklabels(x_labels)\n",
    "\n",
    "rects = ax.patches\n",
    "\n",
    "for rect,lbl in zip(rects, total_labels):\n",
    "    height = rect.get_height()\n",
    "    ax.text(rect.get_x() + rect.get_width() / 2, height\n",
    "            , lbl, ha='center', va='bottom')\n",
    "\n",
    "#About 67/33 ratio class balance towards high-grade class"
   ],
   "metadata": {
    "collapsed": false,
    "pycharm": {
     "name": "#%%\n"
    }
   }
  },
  {
   "cell_type": "code",
   "execution_count": 16,
   "outputs": [
    {
     "data": {
      "text/plain": "<AxesSubplot:xlabel='Question_Nr'>"
     },
     "execution_count": 16,
     "metadata": {},
     "output_type": "execute_result"
    },
    {
     "data": {
      "text/plain": "<Figure size 864x576 with 1 Axes>",
      "image/png": "[encoded data removed]"
     },
     "metadata": {
      "needs_background": "light"
     },
     "output_type": "display_data"
    }
   ],
   "source": [
    "#balance per question (plot)\n",
    "class_imbalance = finalized_dataset.groupby('Question_Nr').Labels.value_counts()\n",
    "class_imbalance.unstack().plot(kind='bar', stacked=True, figsize=(12,8))"
   ],
   "metadata": {
    "collapsed": false,
    "pycharm": {
     "name": "#%%\n"
    }
   }
  },
  {
   "cell_type": "code",
   "execution_count": 17,
   "outputs": [
    {
     "name": "stdout",
     "output_type": "stream",
     "text": [
      "Top 10 balanced questions:\n",
      "[33, 0.0, 40]\n",
      "[37, 0.009803921568627472, 51]\n",
      "[24, 0.011627906976744207, 43]\n",
      "[42, 0.012195121951219523, 41]\n",
      "[12, 0.016129032258064502, 31]\n",
      "[11, 0.026315789473684237, 19]\n",
      "[38, 0.037037037037037035, 54]\n",
      "[6, 0.08823529411764708, 51]\n",
      "[4, 0.09615384615384615, 52]\n",
      "[14, 0.10869565217391303, 46]\n",
      "\n",
      "Top 10 highest supported questions:\n",
      "[13, 0.2931034482758621, 58]\n",
      "[32, 0.13636363636363635, 55]\n",
      "[16, 0.16666666666666669, 54]\n",
      "[23, 0.18518518518518517, 54]\n",
      "[31, 0.40740740740740744, 54]\n",
      "[38, 0.037037037037037035, 54]\n",
      "[43, 0.20370370370370372, 54]\n",
      "[4, 0.09615384615384615, 52]\n",
      "[5, 0.25, 52]\n",
      "[25, 0.11538461538461536, 52]\n"
     ]
    }
   ],
   "source": [
    "#Top 10 most supported and most balanced questions\n",
    "questions_n_fractions_n_support = []\n",
    "#get fractions from middle (the closer to 0 the more balanced)\n",
    "for question_nr,values in class_imbalance.groupby(level=0):\n",
    "    if len(values) != 2:\n",
    "        continue #ignore questions with only support of one class\n",
    "    neg = values.iloc[0]\n",
    "    pos = values.iloc[1]\n",
    "    fraction_from_middle = abs((pos/(neg+pos))-0.5) #the closer to 0 the better class balance\n",
    "    total_support = neg+pos\n",
    "    questions_n_fractions_n_support.append([question_nr, fraction_from_middle,total_support])\n",
    "\n",
    "FRACTIONS_INDEX = 1 #fractions on index 1 of list\n",
    "SUPPORT_INDEX = 2 #support on index 2 of list\n",
    "#sort fractions\n",
    "from operator import itemgetter\n",
    "sorted_fractions = sorted(questions_n_fractions_n_support, key=itemgetter(FRACTIONS_INDEX))\n",
    "sorted_supports = sorted(questions_n_fractions_n_support, key=itemgetter(SUPPORT_INDEX),reverse=True)\n",
    "\n",
    "print('Top 10 balanced questions:')\n",
    "for i in range(0, 10):\n",
    "    print(sorted_fractions[i])\n",
    "print('\\nTop 10 highest supported questions:')\n",
    "for i in range(0, 10):\n",
    "    print(sorted_supports[i])"
   ],
   "metadata": {
    "collapsed": false,
    "pycharm": {
     "name": "#%%\n"
    }
   }
  },
  {
   "cell_type": "code",
   "execution_count": 18,
   "outputs": [],
   "source": [
    "#Word distribution\n",
    "all_responses = finalized_dataset.Response\n",
    "response_lengths = utils.get_text_word_lengths(all_responses)\n",
    "pd.Series(response_lengths).hist(bins = 30)\n",
    "utils.print_list_stats(response_lengths)"
   ],
   "metadata": {
    "collapsed": false,
    "pycharm": {
     "name": "#%%\n"
    }
   }
  },
  {
   "cell_type": "code",
   "execution_count": 20,
   "outputs": [],
   "source": [
    "#Character distribution?\n",
    "character_lengths = utils.get_text_character_lengths(all_responses)\n",
    "pd.Series(character_lengths).hist(bins = 30)\n",
    "utils.print_list_stats(character_lengths)"
   ],
   "metadata": {
    "collapsed": false,
    "pycharm": {
     "name": "#%%\n"
    }
   }
  },
  {
   "cell_type": "code",
   "execution_count": null,
   "outputs": [],
   "source": [
    "#Word distribution per class\n",
    "neg_responses = finalized_dataset.loc[finalized_dataset.Labels == 0].Response\n",
    "pos_responses = finalized_dataset.loc[finalized_dataset.Labels == 1].Response\n",
    "\n",
    "neg_resp_dist = utils.get_text_word_lengths(neg_responses)\n",
    "pos_resp_dist = utils.get_text_word_lengths(pos_responses)"
   ],
   "metadata": {
    "collapsed": false,
    "pycharm": {
     "name": "#%%\n"
    }
   }
  },
  {
   "cell_type": "code",
   "execution_count": 22,
   "outputs": [
    {
     "name": "stdout",
     "output_type": "stream",
     "text": [
      "Average response length of low graders:  15.835408022130014\n",
      "Average response length of high graders:  21.28409090909091\n",
      "Median response length of low graders:  15\n",
      "Median response length of high graders:  20.0\n"
     ]
    }
   ],
   "source": [
    "print('Average response length of low graders: ', mean(neg_resp_dist))\n",
    "print('Average response length of high graders: ', mean(pos_resp_dist))\n",
    "print('Median response length of low graders: ', median(neg_resp_dist))\n",
    "print('Median response length of high graders: ', median(pos_resp_dist))"
   ],
   "metadata": {
    "collapsed": false,
    "pycharm": {
     "name": "#%%\n"
    }
   }
  },
  {
   "cell_type": "code",
   "execution_count": 23,
   "outputs": [
    {
     "data": {
      "text/plain": "<Figure size 432x288 with 1 Axes>",
      "image/png": "[encoded data removed]"
     },
     "metadata": {
      "needs_background": "light"
     },
     "output_type": "display_data"
    }
   ],
   "source": [
    "boxplot = sns.boxplot(data=[neg_resp_dist,pos_resp_dist],palette=['skyblue','palegreen'])\n",
    "boxplot.axes.set_title(\"Distribution of response lengths (Words)\")\n",
    "boxplot.set_xlabel(\"Grade\")\n",
    "boxplot.set_ylabel(\"Amount\")\n",
    "plt.xticks([0,1],('Low Grade', 'High Grade'))\n",
    "plt.show()"
   ],
   "metadata": {
    "collapsed": false,
    "pycharm": {
     "name": "#%%\n"
    }
   }
  },
  {
   "cell_type": "code",
   "execution_count": 24,
   "outputs": [
    {
     "data": {
      "text/plain": "<Figure size 432x288 with 1 Axes>",
      "image/png": "[encoded data removed]"
     },
     "metadata": {
      "needs_background": "light"
     },
     "output_type": "display_data"
    }
   ],
   "source": [
    "boxplot = sns.boxplot(data=[neg_resp_dist,pos_resp_dist],palette=['skyblue','palegreen'])\n",
    "boxplot = sns.stripplot(data=[neg_resp_dist,pos_resp_dist], marker=\"o\", alpha=0.3, color=\"black\")\n",
    "boxplot.axes.set_title(\"Distribution of response lengths (Words)\")\n",
    "boxplot.set_xlabel(\"Grade\")\n",
    "boxplot.set_ylabel(\"Amount\")\n",
    "plt.xticks([0,1],('Low Grade', 'High Grade'))\n",
    "plt.show()"
   ],
   "metadata": {
    "collapsed": false,
    "pycharm": {
     "name": "#%%\n"
    }
   }
  }
 ],
 "metadata": {
  "kernelspec": {
   "display_name": "Python 3",
   "language": "python",
   "name": "python3"
  },
  "language_info": {
   "codemirror_mode": {
    "name": "ipython",
    "version": 2
   },
   "file_extension": ".py",
   "mimetype": "text/x-python",
   "name": "python",
   "nbconvert_exporter": "python",
   "pygments_lexer": "ipython2",
   "version": "2.7.6"
  }
 },
 "nbformat": 4,
 "nbformat_minor": 0
}